{
 "cells": [
  {
   "cell_type": "code",
   "execution_count": 6,
   "metadata": {},
   "outputs": [
    {
     "name": "stdout",
     "output_type": "stream",
     "text": [
      "Sign-up successful! Check your email for the API key confirmation link.\n"
     ]
    }
   ],
   "source": [
    "import requests\n",
    "\n",
    "# Constants\n",
    "API_REQUEST_URL = 'https://aqs.epa.gov/data/api'\n",
    "API_ACTION_SIGNUP = '/signup?email={email}'\n",
    "\n",
    "# Replace with your actual email address\n",
    "YOUR_EMAIL = \"anujtripathi1997@gmail.com\"\n",
    "\n",
    "def request_api_key(email_address):\n",
    "    \"\"\"\n",
    "    Sign up for the US EPA AQS API and request an API key using your email address.\n",
    "    \"\"\"\n",
    "    # Make sure email is in correct format\n",
    "    if '@' not in email_address:\n",
    "        raise ValueError(\"Invalid email address format.\")\n",
    "    \n",
    "    # Compose the request URL\n",
    "    request_url = API_REQUEST_URL + API_ACTION_SIGNUP.format(email=email_address)\n",
    "    \n",
    "    # Make the request\n",
    "    try:\n",
    "        response = requests.get(request_url)\n",
    "        response_data = response.json()\n",
    "        \n",
    "        # Print out the response for sign-up confirmation\n",
    "        if response_data[\"Header\"][0]['status'] == \"Success\":\n",
    "            print(\"Sign-up successful! Check your email for the API key confirmation link.\")\n",
    "        else:\n",
    "            print(\"Sign-up failed:\", response_data[\"Header\"][0]['status'])\n",
    "    except Exception as e:\n",
    "        print(\"Error during sign-up:\", e)\n",
    "\n",
    "# Run the function to request an API key\n",
    "request_api_key(YOUR_EMAIL)\n"
   ]
  }
 ],
 "metadata": {
  "kernelspec": {
   "display_name": "forest_fire_analysis",
   "language": "python",
   "name": "python3"
  },
  "language_info": {
   "codemirror_mode": {
    "name": "ipython",
    "version": 3
   },
   "file_extension": ".py",
   "mimetype": "text/x-python",
   "name": "python",
   "nbconvert_exporter": "python",
   "pygments_lexer": "ipython3",
   "version": "3.12.7"
  }
 },
 "nbformat": 4,
 "nbformat_minor": 2
}
